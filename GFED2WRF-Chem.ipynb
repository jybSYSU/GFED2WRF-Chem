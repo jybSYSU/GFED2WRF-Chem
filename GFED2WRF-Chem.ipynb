{
 "cells": [
  {
   "cell_type": "markdown",
   "id": "e5660ca2",
   "metadata": {
    "ExecuteTime": {
     "end_time": "2023-05-25T03:37:27.166792Z",
     "start_time": "2023-05-25T03:37:27.160658Z"
    }
   },
   "source": [
    "- **<font color=blue size=3> 1.GFED2WRF-Chem software was developed by Professor Fan Qi's team at Sun Yat-sen University: Yinbao Jin, Yuqi Zhu and others.</font>**<br>\n",
    "- **<font color=blue size=3> 2.email:ybjin3@mail2.sysu.edu.cn</font>**<br>"
   ]
  },
  {
   "cell_type": "markdown",
   "id": "ddf0d938",
   "metadata": {},
   "source": [
    "**<center><font color=red size=5>Importing python packages</font></center>**"
   ]
  },
  {
   "cell_type": "code",
   "execution_count": 29,
   "id": "1462bdc1",
   "metadata": {
    "ExecuteTime": {
     "end_time": "2023-05-25T02:30:10.397828Z",
     "start_time": "2023-05-25T02:30:10.395230Z"
    }
   },
   "outputs": [],
   "source": [
    "import xarray as xr\n",
    "import numpy as np\n",
    "import h5py\n",
    "import xesmf as xe\n",
    "import pandas as pd\n",
    "import glob\n",
    "import os\n",
    "from netCDF4 import Dataset\n",
    "from shutil import copyfile\n",
    "from wrf import getvar, ALL_TIMES,latlon_coords,to_np"
   ]
  },
  {
   "cell_type": "markdown",
   "id": "4412c9b8",
   "metadata": {},
   "source": [
    "**<center><font color=red size=5>Functions</font></center>**"
   ]
  },
  {
   "cell_type": "code",
   "execution_count": 30,
   "id": "c7a5079f",
   "metadata": {
    "ExecuteTime": {
     "end_time": "2023-05-25T02:30:10.438265Z",
     "start_time": "2023-05-25T02:30:10.399412Z"
    }
   },
   "outputs": [],
   "source": [
    "def Dealwith_onlyday(MM,DD):\n",
    "    newnum = str(int(DD))\n",
    "    Day_Frac_Path = 'emissions/'+MM+'/daily_fraction/day_'+newnum\n",
    "    Day_Frac = f[Day_Frac_Path]\n",
    "    Emission_DM = 'emissions/'+MM+'/DM'\n",
    "    Mar_DM_2010 = f[Emission_DM] #读取变量（720,1440）\n",
    "    Mar_DM_2010 = Mar_DM_2010[:]\n",
    "    GFED_Dataset = np.zeros([24,33,GFED_latitude.shape[0],GFED_latitude.shape[1]])\n",
    "    for i in np.arange(1,25):## gas unit from WRF-Chem: mol km^-2 hr^-1\n",
    "        for j in np.arange(1,30):\n",
    "            temp = np.zeros([GFED_latitude.shape[0],GFED_latitude.shape[1]])\n",
    "            for k in np.arange(1,7):\n",
    "                Classification_Contri_Path = 'emissions/'+MM+'/partitioning/DM_'+ classification[k-1]\n",
    "                Classification_Contri = f[Classification_Contri_Path]\n",
    "                Times_Path = 'emissions/'+MM+'/diurnal_cycle/'+Times[i-1]\n",
    "                H = f[Times_Path]\n",
    "                # g species m^-2  month^-1 -> mol km^-2 hr^-1\n",
    "                temp += (0.33*10**6)*(1/GFED_Factor.MW[j-1])*GFED_Factors[j-1,k-1]*(Day_Frac)*(H[:])*Mar_DM_2010*Classification_Contri[:]\n",
    "            GFED_Dataset[i-1,j-1,:,:] = temp\n",
    "    for i in np.arange(1,25): # aerosol unit from WRF-Chem: ug m^-2 s^-1\n",
    "        for j in np.arange(30,34):\n",
    "            temp = np.zeros([GFED_latitude.shape[0],GFED_latitude.shape[1]])\n",
    "            for k in np.arange(1,7):\n",
    "                Classification_Contri_Path = 'emissions/'+MM+'/partitioning/DM_'+ classification[k-1]\n",
    "                Classification_Contri = f[Classification_Contri_Path]\n",
    "                Times_Path = 'emissions/'+MM+'/diurnal_cycle/'+Times[i-1]\n",
    "                H = f[Times_Path]\n",
    "                # g species m^-2  month^-1 -> ug m^-2 s^-1\n",
    "                temp +=(1/3600)*(0.33*10**6)*(1/GFED_Factor.MW[j-1])*GFED_Factors[j-1,k-1]*(Day_Frac)*(H[:])*Mar_DM_2010*Classification_Contri[:]\n",
    "            GFED_Dataset[i-1,j-1,:,:] = temp\n",
    "    return regridder(GFED_Dataset)\n",
    "def Write_Data_to_WRFDomain(data,HH):\n",
    "    Classifi_WRF = [\"ebu_in_co\", \"ebu_in_no\", \"ebu_in_so2\", \"ebu_in_bigalk\", \"ebu_in_bigene\", \"ebu_in_c2h4\",\n",
    "               \"ebu_in_c2h5oh\", \"ebu_in_c2h6\", \"ebu_in_c3h8\", \"ebu_in_c3h6\", \"ebu_in_ch2o\", \"ebu_in_ch3cho\",\n",
    "               \"ebu_in_ch3coch3\", \"ebu_in_ch3oh\", \"ebu_in_mek\", \"ebu_in_toluene\", \"ebu_in_nh3\", \"ebu_in_no2\",\n",
    "               \"ebu_in_open\", \"ebu_in_c10h16\", \"ebu_in_ch3cooh\", \"ebu_in_cres\", \"ebu_in_glyald\", \"ebu_in_mgly\",\n",
    "               \"ebu_in_gly\", \"ebu_in_acetol\", \"ebu_in_isop\", \"ebu_in_macr\", \"ebu_in_mvk\", \"ebu_in_oc\",\n",
    "               \"ebu_in_bc\", \"ebu_in_pm10\", \"ebu_in_pm25\"]\n",
    "    copyfile(Input+filename,Output+'/'+filename)\n",
    "    GFED_Data = Dataset(Output+'/'+filename,'a')\n",
    "    for j in range(1,34):\n",
    "        GFED_Data.variables[Classifi_WRF[j-1]][0,0,:,:] = data[int(HH),j-1,:,:]\n",
    "    GFED_Data.close()"
   ]
  },
  {
   "cell_type": "markdown",
   "id": "721456b4",
   "metadata": {},
   "source": [
    "**<center><font color=red size=5>Process</font></center>**"
   ]
  },
  {
   "cell_type": "code",
   "execution_count": 33,
   "id": "571da3b9",
   "metadata": {
    "ExecuteTime": {
     "end_time": "2023-05-25T02:40:39.181744Z",
     "start_time": "2023-05-25T02:36:31.906918Z"
    }
   },
   "outputs": [
    {
     "name": "stdout",
     "output_type": "stream",
     "text": [
      "已创建新文件夹： new_GFED\n",
      "\u001b[34;1;5m总共 2 new emission inventory data will be generated !\u001b[0m\n",
      "处理第 1 个文件 wrffirechemi_d01_2019-02-26_01_00_00.nc month: 02 day: 26\n",
      "处理第 2 个文件 wrffirechemi_d01_2019-02-26_01_00_00.nc month: 02 day: 26\n"
     ]
    }
   ],
   "source": [
    "# Need to modify the place\n",
    "Input = './FINN1.5/'\n",
    "Output = 'new_GFED'\n",
    "GFED_raw_data = 'GFED4.1s_2019_beta.hdf5'\n",
    "wrf_domain = 'wrfinput_d01'\n",
    "EF = 'GFED_Factors.xlsx'\n",
    "#--------------------------------------------------------------------------------------------------------\n",
    "# 检查文件夹是否存在\n",
    "if os.path.exists(Output):\n",
    "    print(\"必要文件夹已存在，可以进行文件处理。\")\n",
    "else:\n",
    "    # 创建新文件夹\n",
    "    os.mkdir(Output)\n",
    "    print(\"1) 已创建新文件夹：\", Output)\n",
    "# list data\n",
    "FileName = glob.glob(Input+'wrf*')\n",
    "numfiles = len(FileName)\n",
    "print(\"\\033[34;1;5m\" +\"2) 总共 \"+ str(numfiles) + \" 新的GFED文件将会产生！它们名称如下：\\033[0m\")\n",
    "# open HDF5\n",
    "f = h5py.File(GFED_raw_data, 'r')\n",
    "# read lat and lon \n",
    "longitude_dataset = f['lon']\n",
    "GFED_longitude = longitude_dataset[:]\n",
    "latitude_dataset = f['lat']\n",
    "GFED_latitude = latitude_dataset[:]\n",
    "# open wrfinput_d01\n",
    "WRF_Data = Dataset(wrf_domain)\n",
    "HGT = getvar(WRF_Data,'HGT',timeidx=ALL_TIMES)#指定时间或者timeidx=ALL_TIMES\n",
    "lats, lons = latlon_coords(HGT)\n",
    "#Interpolation method\n",
    "grid_in = {\"lon\": GFED_longitude, \"lat\": GFED_latitude}\n",
    "grid_out = {\"lon\": lons, \"lat\": lats}\n",
    "regridder = xe.Regridder(grid_in, grid_out, \"bilinear\") \n",
    "#EF\n",
    "GFED_Factor = pd.read_excel(EF,skiprows=0,\n",
    "                            usecols=[0,1,2,3,4,5,6,7],\n",
    "                            names=['species','MW','SAVA','BORF','TEMF','DEFO','PEAT','AGRI'])\n",
    "new_GFED_Factor = GFED_Factor.values\n",
    "GFED_Factors=new_GFED_Factor[:,2:8]\n",
    "classification= [\"SAVA\",\"BORF\",\"TEMF\",\"DEFO\",\"PEAT\",\"AGRI\"]\n",
    "Times = ['UTC_0-3h','UTC_0-3h','UTC_0-3h','UTC_3-6h','UTC_3-6h','UTC_3-6h','UTC_6-9h','UTC_6-9h',\n",
    "    'UTC_6-9h','UTC_9-12h','UTC_9-12h','UTC_9-12h','UTC_12-15h','UTC_12-15h','UTC_12-15h','UTC_15-18h',\n",
    "    'UTC_15-18h','UTC_15-18h','UTC_18-21h','UTC_18-21h','UTC_18-21h','UTC_21-24h','UTC_21-24h','UTC_21-24h']\n",
    "#----------------------------------------------------------------------------------------------------------\n",
    "for i in range(numfiles):\n",
    "    file_path = FileName[i]\n",
    "    file_name = os.path.basename(file_path)\n",
    "    date_parts = file_name.split('_')[2].split('-')\n",
    "    MM = date_parts[1]\n",
    "    DD = date_parts[2]\n",
    "    HH = file_name.split('_')[3]\n",
    "    print(\"处理第 \"+ str(i+1)+\" 个文件 \"+filename,\"month: \"+MM,\"day: \"+DD,\"hour: \"+HH)\n",
    "    GFEDdata = Dealwith_onlyday(MM,DD)\n",
    "    Write_Data_to_WRFDomain(GFEDdata,HH)"
   ]
  }
 ],
 "metadata": {
  "kernelspec": {
   "display_name": "Python 3 (ipykernel)",
   "language": "python",
   "name": "python3"
  },
  "language_info": {
   "codemirror_mode": {
    "name": "ipython",
    "version": 3
   },
   "file_extension": ".py",
   "mimetype": "text/x-python",
   "name": "python",
   "nbconvert_exporter": "python",
   "pygments_lexer": "ipython3",
   "version": "3.9.13"
  }
 },
 "nbformat": 4,
 "nbformat_minor": 5
}
